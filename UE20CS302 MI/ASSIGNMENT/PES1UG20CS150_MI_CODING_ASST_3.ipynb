{
  "nbformat": 4,
  "nbformat_minor": 0,
  "metadata": {
    "colab": {
      "provenance": []
    },
    "kernelspec": {
      "name": "python3",
      "display_name": "Python 3"
    },
    "language_info": {
      "name": "python"
    }
  },
  "cells": [
    {
      "cell_type": "code",
      "execution_count": null,
      "metadata": {
        "colab": {
          "base_uri": "https://localhost:8080/"
        },
        "id": "6nrDhctPCyXl",
        "outputId": "b3341465-57f0-41c7-e9d3-f5a1cf7c4020"
      },
      "outputs": [
        {
          "output_type": "stream",
          "name": "stdout",
          "text": [
            "Looking in indexes: https://pypi.org/simple, https://us-python.pkg.dev/colab-wheels/public/simple/\n",
            "Collecting pygad\n",
            "  Downloading pygad-2.18.1-py3-none-any.whl (56 kB)\n",
            "\u001b[K     |████████████████████████████████| 56 kB 2.6 MB/s \n",
            "\u001b[?25hRequirement already satisfied: matplotlib in /usr/local/lib/python3.7/dist-packages (from pygad) (3.2.2)\n",
            "Requirement already satisfied: numpy in /usr/local/lib/python3.7/dist-packages (from pygad) (1.21.6)\n",
            "Requirement already satisfied: pyparsing!=2.0.4,!=2.1.2,!=2.1.6,>=2.0.1 in /usr/local/lib/python3.7/dist-packages (from matplotlib->pygad) (3.0.9)\n",
            "Requirement already satisfied: kiwisolver>=1.0.1 in /usr/local/lib/python3.7/dist-packages (from matplotlib->pygad) (1.4.4)\n",
            "Requirement already satisfied: python-dateutil>=2.1 in /usr/local/lib/python3.7/dist-packages (from matplotlib->pygad) (2.8.2)\n",
            "Requirement already satisfied: cycler>=0.10 in /usr/local/lib/python3.7/dist-packages (from matplotlib->pygad) (0.11.0)\n",
            "Requirement already satisfied: typing-extensions in /usr/local/lib/python3.7/dist-packages (from kiwisolver>=1.0.1->matplotlib->pygad) (4.1.1)\n",
            "Requirement already satisfied: six>=1.5 in /usr/local/lib/python3.7/dist-packages (from python-dateutil>=2.1->matplotlib->pygad) (1.15.0)\n",
            "Installing collected packages: pygad\n",
            "Successfully installed pygad-2.18.1\n"
          ]
        }
      ],
      "source": [
        "import numpy\n",
        "!pip install pygad\n",
        "import pygad\n",
        "import pygad.nn\n",
        "import pygad.gann"
      ]
    },
    {
      "cell_type": "code",
      "source": [
        "def fitness_func(solution, sol_idx):\n",
        "  global GANN_instance, data_inputs, data_outputs\n",
        "  predictions = pygad.nn.predict(last_layer=GANN_instance.population_networks[sol_idx],data_inputs=data_inputs)\n",
        "  correct_predictions = numpy.where(predictions == data_outputs)[0].size\n",
        "  solution_fitness = (correct_predictions/data_outputs.size)*100\n",
        "  return solution_fitness"
      ],
      "metadata": {
        "id": "zuwZYM03JL5Z"
      },
      "execution_count": null,
      "outputs": []
    },
    {
      "cell_type": "code",
      "source": [
        "def callback_generation(ga_instance):\n",
        "    global GANN_instance\n",
        "    population_matrices = pygad.gann.population_as_matrices(population_networks=GANN_instance.population_networks,population_vectors=ga_instance.population)\n",
        "    GANN_instance.update_population_trained_weights(population_trained_weights=population_matrices)\n",
        "    print(\"Generation = {generation}\".format(generation=ga_instance.generations_completed))\n",
        "    print(\"Accuracy   = {fitness}\".format(fitness=ga_instance.best_solution()[1]))"
      ],
      "metadata": {
        "id": "i0VBqIL1JjlG"
      },
      "execution_count": null,
      "outputs": []
    },
    {
      "cell_type": "code",
      "source": [
        "data_inputs = numpy.array([[1, 1],\n",
        "                           [1, 0],\n",
        "                           [0, 1],\n",
        "                           [0, 0]])\n",
        "\n",
        "data_outputs = numpy.array([0, \n",
        "                            1, \n",
        "                            1, \n",
        "                            0])"
      ],
      "metadata": {
        "id": "OjBlG86uKGK2"
      },
      "execution_count": null,
      "outputs": []
    },
    {
      "cell_type": "code",
      "source": [
        "GANN_instance = pygad.gann.GANN(num_solutions=10,\n",
        "                                num_neurons_input=2,\n",
        "                                num_neurons_hidden_layers=[2],\n",
        "                                num_neurons_output=2,\n",
        "                                hidden_activations=[\"relu\"],\n",
        "                                output_activation=\"softmax\")"
      ],
      "metadata": {
        "id": "QPMPrx0BK3Gm"
      },
      "execution_count": null,
      "outputs": []
    },
    {
      "cell_type": "code",
      "source": [
        "population_vectors = pygad.gann.population_as_vectors(population_networks=GANN_instance.population_networks)\n",
        "\n",
        "ga_instance = pygad.GA(num_generations=50, \n",
        "                       num_parents_mating=3, \n",
        "                       initial_population=population_vectors.copy(),\n",
        "                       fitness_func=fitness_func,\n",
        "                       mutation_percent_genes=5,\n",
        "                       callback_generation=callback_generation)\n",
        "\n",
        "ga_instance.run()\n"
      ],
      "metadata": {
        "colab": {
          "base_uri": "https://localhost:8080/"
        },
        "id": "ip6QXQfLMcT7",
        "outputId": "d7309a61-24b4-468a-ed24-4dfbded4e601"
      },
      "execution_count": null,
      "outputs": [
        {
          "output_type": "stream",
          "name": "stderr",
          "text": [
            "/usr/local/lib/python3.7/dist-packages/pygad/pygad.py:503: UserWarning: The percentage of genes to mutate (mutation_percent_genes=5) resutled in selecting (0) genes. The number of genes to mutate is set to 1 (mutation_num_genes=1).\n",
            "If you do not want to mutate any gene, please set mutation_type=None.\n",
            "  if not self.suppress_warnings: warnings.warn(\"The percentage of genes to mutate (mutation_percent_genes={mutation_percent}) resutled in selecting ({mutation_num}) genes. The number of genes to mutate is set to 1 (mutation_num_genes=1).\\nIf you do not want to mutate any gene, please set mutation_type=None.\".format(mutation_percent=mutation_percent_genes, mutation_num=mutation_num_genes))\n",
            "/usr/local/lib/python3.7/dist-packages/pygad/pygad.py:764: UserWarning: Starting from PyGAD 2.6.0, the callback_generation parameter is deprecated and will be removed in a later release of PyGAD. Please use the on_generation parameter instead.\n",
            "  if not self.suppress_warnings: warnings.warn(\"Starting from PyGAD 2.6.0, the callback_generation parameter is deprecated and will be removed in a later release of PyGAD. Please use the on_generation parameter instead.\")\n"
          ]
        },
        {
          "output_type": "stream",
          "name": "stdout",
          "text": [
            "Generation = 1\n",
            "Accuracy   = 100.0\n",
            "Generation = 2\n",
            "Accuracy   = 100.0\n",
            "Generation = 3\n",
            "Accuracy   = 100.0\n",
            "Generation = 4\n",
            "Accuracy   = 100.0\n",
            "Generation = 5\n",
            "Accuracy   = 100.0\n",
            "Generation = 6\n",
            "Accuracy   = 100.0\n",
            "Generation = 7\n",
            "Accuracy   = 100.0\n",
            "Generation = 8\n",
            "Accuracy   = 100.0\n",
            "Generation = 9\n",
            "Accuracy   = 100.0\n",
            "Generation = 10\n",
            "Accuracy   = 100.0\n",
            "Generation = 11\n",
            "Accuracy   = 100.0\n",
            "Generation = 12\n",
            "Accuracy   = 100.0\n",
            "Generation = 13\n",
            "Accuracy   = 100.0\n",
            "Generation = 14\n",
            "Accuracy   = 100.0\n",
            "Generation = 15\n",
            "Accuracy   = 100.0\n",
            "Generation = 16\n",
            "Accuracy   = 100.0\n",
            "Generation = 17\n",
            "Accuracy   = 100.0\n",
            "Generation = 18\n",
            "Accuracy   = 100.0\n",
            "Generation = 19\n",
            "Accuracy   = 100.0\n",
            "Generation = 20\n",
            "Accuracy   = 100.0\n",
            "Generation = 21\n",
            "Accuracy   = 100.0\n",
            "Generation = 22\n",
            "Accuracy   = 100.0\n",
            "Generation = 23\n",
            "Accuracy   = 100.0\n",
            "Generation = 24\n",
            "Accuracy   = 100.0\n",
            "Generation = 25\n",
            "Accuracy   = 100.0\n",
            "Generation = 26\n",
            "Accuracy   = 100.0\n",
            "Generation = 27\n",
            "Accuracy   = 100.0\n",
            "Generation = 28\n",
            "Accuracy   = 100.0\n",
            "Generation = 29\n",
            "Accuracy   = 100.0\n",
            "Generation = 30\n",
            "Accuracy   = 100.0\n",
            "Generation = 31\n",
            "Accuracy   = 100.0\n",
            "Generation = 32\n",
            "Accuracy   = 100.0\n",
            "Generation = 33\n",
            "Accuracy   = 100.0\n",
            "Generation = 34\n",
            "Accuracy   = 100.0\n",
            "Generation = 35\n",
            "Accuracy   = 100.0\n",
            "Generation = 36\n",
            "Accuracy   = 100.0\n",
            "Generation = 37\n",
            "Accuracy   = 100.0\n",
            "Generation = 38\n",
            "Accuracy   = 100.0\n",
            "Generation = 39\n",
            "Accuracy   = 100.0\n",
            "Generation = 40\n",
            "Accuracy   = 100.0\n",
            "Generation = 41\n",
            "Accuracy   = 100.0\n",
            "Generation = 42\n",
            "Accuracy   = 100.0\n",
            "Generation = 43\n",
            "Accuracy   = 100.0\n",
            "Generation = 44\n",
            "Accuracy   = 100.0\n",
            "Generation = 45\n",
            "Accuracy   = 100.0\n",
            "Generation = 46\n",
            "Accuracy   = 100.0\n",
            "Generation = 47\n",
            "Accuracy   = 100.0\n",
            "Generation = 48\n",
            "Accuracy   = 100.0\n",
            "Generation = 49\n",
            "Accuracy   = 100.0\n",
            "Generation = 50\n",
            "Accuracy   = 100.0\n"
          ]
        }
      ]
    },
    {
      "cell_type": "code",
      "source": [
        "ga_instance.plot_result()"
      ],
      "metadata": {
        "colab": {
          "base_uri": "https://localhost:8080/",
          "height": 638
        },
        "id": "0hTiCdctMylf",
        "outputId": "d3e2877c-5d78-47d2-a81f-09d807e44dd2"
      },
      "execution_count": null,
      "outputs": [
        {
          "output_type": "stream",
          "name": "stderr",
          "text": [
            "/usr/local/lib/python3.7/dist-packages/pygad/pygad.py:3345: UserWarning: Please use the plot_fitness() method instead of plot_result(). The plot_result() method will be removed in the future.\n",
            "  warnings.warn(\"Please use the plot_fitness() method instead of plot_result(). The plot_result() method will be removed in the future.\")\n"
          ]
        },
        {
          "output_type": "display_data",
          "data": {
            "text/plain": [
              "<Figure size 432x288 with 1 Axes>"
            ],
            "image/png": "[encoded data removed]"
          },
          "metadata": {
            "needs_background": "light"
          }
        },
        {
          "output_type": "execute_result",
          "data": {
            "text/plain": [
              "<Figure size 432x288 with 1 Axes>"
            ],
            "image/png": "[encoded data removed]"
          },
          "metadata": {},
          "execution_count": 9
        }
      ]
    },
    {
      "cell_type": "code",
      "source": [
        "solution, solution_fitness, solution_idx = ga_instance.best_solution()\n",
        "print(solution)\n",
        "print(solution_fitness)\n",
        "print(solution_idx)"
      ],
      "metadata": {
        "colab": {
          "base_uri": "https://localhost:8080/"
        },
        "id": "xEjirEgDM27o",
        "outputId": "33fb8527-39f4-4355-9300-554f5faa197c"
      },
      "execution_count": null,
      "outputs": [
        {
          "output_type": "stream",
          "name": "stdout",
          "text": [
            "[-0.84947514  0.02011527  0.1747163  -2.2775883  -1.32755748 -0.81670718\n",
            " -0.92835556  0.45286982]\n",
            "100.0\n",
            "0\n"
          ]
        }
      ]
    }
  ]
}